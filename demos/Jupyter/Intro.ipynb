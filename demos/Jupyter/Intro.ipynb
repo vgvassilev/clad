{
 "cells": [
  {
   "cell_type": "markdown",
   "id": "c3d18cdc",
   "metadata": {},
   "source": [
    "#  AD Tutorial - CLAD & Jupyter Notebook "
   ]
  },
  {
   "cell_type": "markdown",
   "id": "fce1b85b",
   "metadata": {},
   "source": [
    "xeus-cpp provides a Jupyter kernel for C++ with the help of the C++ interpreter clang-repl and the native implementation of the Jupyter protocol xeus.\n",
    "\n",
    "Within the xeus-cpp framework, Clad can enable automatic differentiation (AD) such that users can automatically generate C++ code for their computation of derivatives of their functions.\n",
    "\n"
   ]
  },
  {
   "cell_type": "code",
   "execution_count": 1,
   "id": "8e84696d",
   "metadata": {},
   "outputs": [],
   "source": [
    "#include \"clad/Differentiator/Differentiator.h\"\n",
    "#include <iostream>"
   ]
  },
  {
   "cell_type": "markdown",
   "id": "27f9c8a7",
   "metadata": {},
   "source": [
    "## Forward Mode AD"
   ]
  },
  {
   "cell_type": "markdown",
   "id": "2bb0909b",
   "metadata": {},
   "source": [
    "For a function _f_ of several inputs and single (scalar) output, forward mode AD can be used to compute (or, in case of Clad, create a function) computing a directional derivative of _f_ with respect to a single specified input variable. Moreover, the generated derivative function has the same signature as the original function _f_, however its return value is the value of the derivative."
   ]
  },
  {
   "cell_type": "code",
   "execution_count": 2,
   "id": "689fe9c9",
   "metadata": {},
   "outputs": [],
   "source": [
    "double fn(double x, double y) {\n",
    "  return x*x*y + y*y;\n",
    "}"
   ]
  },
  {
   "cell_type": "code",
   "execution_count": 3,
   "id": "363b6994",
   "metadata": {},
   "outputs": [],
   "source": [
    "auto fn_dx = clad::differentiate(fn, \"x\");"
   ]
  },
  {
   "cell_type": "code",
   "execution_count": 4,
   "id": "0e2afa3d",
   "metadata": {},
   "outputs": [
    {
     "name": "stdout",
     "output_type": "stream",
     "text": [
      "30\n"
     ]
    }
   ],
   "source": [
    "std::cout << fn_dx.execute(5, 3) << std::endl;"
   ]
  },
  {
   "cell_type": "markdown",
   "id": "5d24004b",
   "metadata": {
    "tags": []
   },
   "source": [
    "## Reverse Mode AD"
   ]
  },
  {
   "cell_type": "markdown",
   "id": "726e5729",
   "metadata": {},
   "source": [
    "Reverse-mode AD enables the gradient computation within a single pass of the computation graph of _f_ using at most a constant factor (around 4) more arithmetical operations compared to the original function. While its constant factor and memory overhead is higher than that of the forward-mode, it is independent of the number of inputs.\n",
    "\n",
    "Moreover, the generated function has void return type and same input arguments. The function has an additional argument of type T*, where T is the return type of _f_. This is the “result” argument which has to point to the beginning of the vector where the gradient will be stored."
   ]
  },
  {
   "cell_type": "code",
   "execution_count": 5,
   "id": "8ba98473",
   "metadata": {},
   "outputs": [],
   "source": [
    "double fn2(double x, double y) {\n",
    "  return x*x + y*y;\n",
    "}"
   ]
  },
  {
   "cell_type": "code",
   "execution_count": 6,
   "id": "b99fe09c",
   "metadata": {},
   "outputs": [],
   "source": [
    "auto d_fn_2 = clad::gradient(fn2, \"x, y\");\n",
    "double d_x_2, d_y_2;"
   ]
  },
  {
   "cell_type": "code",
   "execution_count": 7,
   "id": "703e0bb3",
   "metadata": {},
   "outputs": [
    {
     "name": "stdout",
     "output_type": "stream",
     "text": [
      "The code is: \n",
      "void fn2_grad(double x, double y, double *_d_x, double *_d_y) {\n",
      "    {\n",
      "        *_d_x += 1 * x;\n",
      "        *_d_x += x * 1;\n",
      "        *_d_y += 1 * y;\n",
      "        *_d_y += y * 1;\n",
      "    }\n",
      "}\n",
      "\n"
     ]
    }
   ],
   "source": [
    "d_fn_2.dump();"
   ]
  },
  {
   "cell_type": "markdown",
   "id": "9c2947c3",
   "metadata": {},
   "source": [
    "## Hessian"
   ]
  },
  {
   "cell_type": "markdown",
   "id": "a4bc2610-a75a-4659-a980-39a0e6d1d238",
   "metadata": {},
   "source": [
    "Clad can produce the hessian matrix of a function using its forward and reverse mode capabilities. Its interface is similar to reverse mode but differs when arrays are involved. It returns the matrix as a flattened vector in row major format."
   ]
  },
  {
   "cell_type": "code",
   "execution_count": 8,
   "id": "2bed8b61",
   "metadata": {},
   "outputs": [],
   "source": [
    "double kinetic_energy(double mass, double velocity) {\n",
    "  return mass * velocity * velocity * 0.5;\n",
    "}"
   ]
  },
  {
   "cell_type": "code",
   "execution_count": 9,
   "id": "6a427306",
   "metadata": {},
   "outputs": [],
   "source": [
    "auto hessian = clad::hessian(kinetic_energy, \"mass, velocity\");\n",
    "double matrix[4];\n",
    "hessian.execute(10, 2, matrix);"
   ]
  },
  {
   "cell_type": "code",
   "execution_count": 10,
   "id": "ad1cb57b",
   "metadata": {},
   "outputs": [
    {
     "name": "stdout",
     "output_type": "stream",
     "text": [
      "0 2 2 10 "
     ]
    }
   ],
   "source": [
    "for(int i = 0; i < 4; i++) {\n",
    "    std::cout << matrix[i] << \" \";\n",
    "}"
   ]
  },
  {
   "cell_type": "markdown",
   "id": "6dd4c254",
   "metadata": {},
   "source": [
    "## Jacobian"
   ]
  },
  {
   "cell_type": "markdown",
   "id": "03638fa7-1837-4052-b548-0289098dbe12",
   "metadata": {},
   "source": [
    "Clad can produce the jacobian of a function using its reverse mode. It returns the jacobian matrix as a `clad::matrix` for every pointer/array parameter. The generated function has `void` return type and same input arguments. For every pointer/array parameter `arr`, the function has an additional argument `_d_vector_arr`. Its type is `clad::matrix<T>`, where `T` is the pointee type of `arr`. These variables store their derivatives w.r.t. all inputs. The caller is responsible for allocating the matrices."
   ]
  },
  {
   "cell_type": "code",
   "execution_count": 11,
   "id": "e529e1da",
   "metadata": {},
   "outputs": [],
   "source": [
    "void fn_jacobian(double i, double j, double *res) {\n",
    "  res[0] = i*i;\n",
    "  res[1] = j*j;\n",
    "  res[2] = i*j;\n",
    "}"
   ]
  },
  {
   "cell_type": "code",
   "execution_count": 12,
   "id": "388de314",
   "metadata": {},
   "outputs": [],
   "source": [
    "auto d_fn = clad::jacobian(fn_jacobian);\n",
    "double res[3] = {0, 0, 0};\n",
    "clad::matrix<double> d_res(3, 5);\n",
    "d_fn.execute(3, 5, res, &d_res);"
   ]
  },
  {
   "cell_type": "code",
   "execution_count": 13,
   "id": "70234c50-0215-4f18-9c7e-cc6b057b6d9f",
   "metadata": {},
   "outputs": [
    {
     "name": "stdout",
     "output_type": "stream",
     "text": [
      "6 0 0 0 0 \n",
      "0 10 0 0 0 \n",
      "5 3 0 0 0 \n"
     ]
    }
   ],
   "source": [
    "for(int i = 0; i < 3; i++) {\n",
    "    for(int j = 0; j < 5; j++) {\n",
    "        std::cout << d_res[i][j] << \" \";\n",
    "    }\n",
    "    std::cout << std::endl;\n",
    "}"
   ]
  },
  {
   "cell_type": "code",
   "execution_count": 14,
   "id": "9ab7d275",
   "metadata": {},
   "outputs": [
    {
     "name": "stdout",
     "output_type": "stream",
     "text": [
      "Jacobian matrix:\n",
      "6 0 \n",
      "0 10 \n",
      "5 3 \n"
     ]
    }
   ],
   "source": [
    "std::cout<<\"Jacobian matrix:\\n\";\n",
    "  for (int i=0; i<3; ++i) {\n",
    "    for (int j=0; j<2; ++j) {\n",
    "      std::cout<<d_res[i][j]<<\" \";\n",
    "    }\n",
    "    std::cout<<\"\\n\";\n",
    "  }"
   ]
  },
  {
   "cell_type": "markdown",
   "id": "7d3a76b3-3f03-490a-8fde-eb1d8a03ab4e",
   "metadata": {},
   "source": [
    "## Floating-point error estimation"
   ]
  },
  {
   "cell_type": "markdown",
   "id": "b97e049c-bdca-4cb0-a541-57fa6a75e14a",
   "metadata": {},
   "source": [
    "Clad is capable of annotating a given function with floating point error estimation code using the reverse mode of AD.\n",
    "\n",
    "**clad::estimate_error(f)** takes 1 argument: *f*, i.e. a pointer to the function or method to be annotated with floating point error estimation code.\n",
    "\n",
    "The function signature of the generated code is the same as the one of *clad::gradient(f)* with the exception that it has an extra argument at the end of type double&. This argument returns the total floating point error in the function by reference."
   ]
  },
  {
   "cell_type": "code",
   "execution_count": 15,
   "id": "873e268b-3afb-4d41-88c8-fd484430fe7e",
   "metadata": {},
   "outputs": [
    {
     "name": "stdout",
     "output_type": "stream",
     "text": [
      "The code is: \n",
      "void fn_grad(double x, double y, double *_d_x, double *_d_y, double &_final_error) {\n",
      "    double _ret_value0 = 0.;\n",
      "    _ret_value0 = x * x * y + y * y;\n",
      "    {\n",
      "        *_d_x += 1 * y * x;\n",
      "        *_d_x += x * 1 * y;\n",
      "        *_d_y += x * x * 1;\n",
      "        *_d_y += 1 * y;\n",
      "        *_d_y += y * 1;\n",
      "    }\n",
      "    _final_error += std::abs(*_d_x * x * 1.1920928955078125E-7);\n",
      "    _final_error += std::abs(*_d_y * y * 1.1920928955078125E-7);\n",
      "    _final_error += std::abs(1. * _ret_value0 * 1.1920928955078125E-7);\n",
      "}\n",
      "\n"
     ]
    }
   ],
   "source": [
    "// Generate the floating point error estimation code for 'f'.\n",
    "auto df = clad::estimate_error(fn);\n",
    "// Print the generated code to standard output.\n",
    "df.dump();\n",
    "// Declare the necessary variables.\n",
    "double x, y, d_x, d_y, final_error = 0;\n",
    "// Finally call execute on the generated code.\n",
    "df.execute(x, y, &d_x, &d_y, final_error);\n",
    "// After this, 'final_error' contains the floating point error in function 'f'."
   ]
  },
  {
   "cell_type": "markdown",
   "id": "253ab080",
   "metadata": {},
   "source": [
    "## Functors"
   ]
  },
  {
   "cell_type": "code",
   "execution_count": 16,
   "id": "e04d7d91",
   "metadata": {},
   "outputs": [],
   "source": [
    "class Equation {\n",
    "  double m_x, m_y;\n",
    "\n",
    "  public:\n",
    "  Equation(double x = 0, double y = 0) : m_x(x), m_y(y) {}\n",
    "  double operator()(double i, double j) {\n",
    "    return m_x*i*j + m_y*i*j;\n",
    "  }\n",
    "  void setX(double x) {\n",
    "    m_x = x;\n",
    "  }\n",
    "};"
   ]
  },
  {
   "cell_type": "code",
   "execution_count": 17,
   "id": "ffe3a604",
   "metadata": {},
   "outputs": [],
   "source": [
    "Equation E(3,5);\n",
    "auto d_E = clad::differentiate(E, \"i\");"
   ]
  },
  {
   "cell_type": "code",
   "execution_count": 18,
   "id": "25de6a4c",
   "metadata": {},
   "outputs": [
    {
     "name": "stdout",
     "output_type": "stream",
     "text": [
      "The code is: \n",
      "double operator_call_darg0(double i, double j) {\n",
      "    double _d_i = 1;\n",
      "    double _d_j = 0;\n",
      "    Equation _d_this_obj;\n",
      "    Equation *_d_this = &_d_this_obj;\n",
      "    double _d_m_x = 0;\n",
      "    double _d_m_y = 0;\n",
      "    double &_t0 = this->m_x;\n",
      "    double _t1 = _t0 * i;\n",
      "    double &_t2 = this->m_y;\n",
      "    double _t3 = _t2 * i;\n",
      "    return (_d_m_x * i + _t0 * _d_i) * j + _t1 * _d_j + (_d_m_y * i + _t2 * _d_i) * j + _t3 * _d_j;\n",
      "}\n",
      "\n"
     ]
    }
   ],
   "source": [
    "d_E.dump();"
   ]
  }
 ],
 "metadata": {
  "kernelspec": {
   "display_name": "C++17-Clad-v1.10",
   "language": "C++17",
   "name": "xcpp17-clad"
  },
  "language_info": {
   "codemirror_mode": "text/x-c++src",
   "file_extension": ".cpp",
   "mimetype": "text/x-c++src",
   "name": "C++",
   "version": "17"
  }
 },
 "nbformat": 4,
 "nbformat_minor": 5
}
